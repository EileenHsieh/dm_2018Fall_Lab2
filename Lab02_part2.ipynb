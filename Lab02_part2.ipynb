{
 "cells": [
  {
   "cell_type": "markdown",
   "metadata": {},
   "source": [
    "## Deep Information Retrieval and Neural Word Embeddings (Part 2)"
   ]
  },
  {
   "cell_type": "markdown",
   "metadata": {},
   "source": [
    "### Outline:\n",
    "7. Deep Learning\n",
    "8. Word to Vector\n",
    "9. Clustering\n",
    "10. High-dimension Visualization"
   ]
  },
  {
   "cell_type": "markdown",
   "metadata": {},
   "source": [
    "### Continue from part 1"
   ]
  },
  {
   "cell_type": "markdown",
   "metadata": {},
   "source": [
    "#### Load the data we processed earlier"
   ]
  },
  {
   "cell_type": "code",
   "execution_count": 2,
   "metadata": {},
   "outputs": [
    {
     "data": {
      "text/plain": [
       "CountVectorizer(analyzer='word', binary=False, decode_error='strict',\n",
       "        dtype=<class 'numpy.int64'>, encoding='utf-8', input='content',\n",
       "        lowercase=True, max_df=1.0, max_features=500, min_df=1,\n",
       "        ngram_range=(1, 1), preprocessor=None, stop_words=None,\n",
       "        strip_accents=None, token_pattern='(?u)\\\\b\\\\w\\\\w+\\\\b',\n",
       "        tokenizer=<function word_tokenize at 0x119163ea0>, vocabulary=None)"
      ]
     },
     "execution_count": 2,
     "metadata": {},
     "output_type": "execute_result"
    }
   ],
   "source": [
    "import pandas as pd\n",
    "import numpy as np\n",
    "\n",
    "## load a pickle file\n",
    "train_df = pd.read_pickle(\"train_df.pkl\")\n",
    "test_df = pd.read_pickle(\"test_df.pkl\")\n",
    "\n",
    "\n",
    "import nltk\n",
    "from sklearn.feature_extraction.text import CountVectorizer\n",
    "\n",
    "BOW_500 = CountVectorizer(max_features=500, tokenizer=nltk.word_tokenize) \n",
    "BOW_500.fit(train_df['text'])"
   ]
  },
  {
   "cell_type": "markdown",
   "metadata": {},
   "source": [
    "---\n",
    "## ＊ Before going down\n",
    "\n",
    "### Some important tips on using machine learning library:\n",
    "1. What are the input & ouput    \n",
    "\n",
    "\n",
    "2. Read official document    \n",
    "\n",
    "\n",
    "3. Understand the algorithm    "
   ]
  },
  {
   "cell_type": "markdown",
   "metadata": {},
   "source": [
    " "
   ]
  },
  {
   "cell_type": "markdown",
   "metadata": {},
   "source": [
    "---\n",
    "### 7. Deep Learning\n",
    "\n",
    "We use [Keras](https://keras.io/) to be our deep learning framwork, and follow the [Model (functional API)](https://keras.io/models/model/) to build a Deep Neural Network (DNN) model.\n",
    "\n",
    "If you want to use your computer to train, you have to install `keras` and `tensorflow`. \n",
    "\n",
    "\n",
    "Because Deep Learning is a 1-semester course, we can't talk about each detail about it in the lab session. Here, we only provide a simple template about how to build & run a DL model successfully. You can follow this template to design your model!"
   ]
  },
  {
   "cell_type": "markdown",
   "metadata": {},
   "source": [
    "\n",
    "#### Fully Connected Network\n",
    "\n",
    "![Image](https://stanford.edu/~shervine/images/neural-network.png)\n",
    "\n",
    "(source: https://stanford.edu/~shervine/teaching/cs-229/cheatsheet-deep-learning)\n",
    "\n",
    "\n",
    "#### Design model by ourself\n",
    "1. Make sure the dimension of input & output.\n",
    "2. Design the network architecture. (like the paper you read)"
   ]
  },
  {
   "cell_type": "markdown",
   "metadata": {},
   "source": [
    "### 7-0 Import the library\n"
   ]
  },
  {
   "cell_type": "code",
   "execution_count": 3,
   "metadata": {},
   "outputs": [
    {
     "name": "stderr",
     "output_type": "stream",
     "text": [
      "Using TensorFlow backend.\n"
     ]
    }
   ],
   "source": [
    "# check keras & tensorflow work\n",
    "import keras"
   ]
  },
  {
   "cell_type": "markdown",
   "metadata": {},
   "source": [
    "### 7-1 Prepare data (X, y)"
   ]
  },
  {
   "cell_type": "code",
   "execution_count": 4,
   "metadata": {},
   "outputs": [
    {
     "name": "stdout",
     "output_type": "stream",
     "text": [
      "X_train.shape:  (3613, 500)\n",
      "y_train.shape:  (3613,)\n",
      "X_test.shape:  (347, 500)\n",
      "y_test.shape:  (347,)\n"
     ]
    }
   ],
   "source": [
    "# standardize name (X, y) \n",
    "X_train = BOW_500.transform(train_df['text'])\n",
    "y_train = train_df['emotion']\n",
    "\n",
    "X_test = BOW_500.transform(test_df['text'])\n",
    "y_test = test_df['emotion']\n",
    "\n",
    "## check dimension is a good habbit \n",
    "print('X_train.shape: ', X_train.shape)\n",
    "print('y_train.shape: ', y_train.shape)\n",
    "print('X_test.shape: ', X_test.shape)\n",
    "print('y_test.shape: ', y_test.shape)"
   ]
  },
  {
   "cell_type": "markdown",
   "metadata": {},
   "source": [
    "### 7-2 Deal with categorical label (y)\n",
    "\n",
    "Rather than put your label `train_df['emotion']` directly into a model, we have to process these categorical (or say nominal) label by ourselves. \n",
    "\n",
    "Here, we use the basic method [one-hot encoding](https://en.wikipedia.org/wiki/One-hot) to transform our categorical  labels to numerical ones.\n"
   ]
  },
  {
   "cell_type": "code",
   "execution_count": 5,
   "metadata": {},
   "outputs": [
    {
     "name": "stdout",
     "output_type": "stream",
     "text": [
      "check label:  ['anger' 'fear' 'joy' 'sadness']\n",
      "\n",
      "## Before convert\n",
      "y_train[0:4]:\n",
      " 1429       fear\n",
      "3362    sadness\n",
      "2035        joy\n",
      "1255       fear\n",
      "Name: emotion, dtype: object\n",
      "\n",
      "y_train.shape:  (3613,)\n",
      "y_test.shape:  (347,)\n",
      "\n",
      "\n",
      "## After convert\n",
      "y_train[0:4]:\n",
      " [[0. 1. 0. 0.]\n",
      " [0. 0. 0. 1.]\n",
      " [0. 0. 1. 0.]\n",
      " [0. 1. 0. 0.]]\n",
      "\n",
      "y_train.shape:  (3613, 4)\n",
      "y_test.shape:  (347, 4)\n"
     ]
    }
   ],
   "source": [
    "## deal with label (string -> one-hot)\n",
    "\n",
    "from sklearn.preprocessing import LabelEncoder\n",
    "\n",
    "label_encoder = LabelEncoder()\n",
    "label_encoder.fit(y_train)\n",
    "print('check label: ', label_encoder.classes_)\n",
    "print('\\n## Before convert')\n",
    "print('y_train[0:4]:\\n', y_train[0:4])\n",
    "print('\\ny_train.shape: ', y_train.shape)\n",
    "print('y_test.shape: ', y_test.shape)\n",
    "\n",
    "def label_encode(le, labels):\n",
    "    enc = le.transform(labels)\n",
    "    return keras.utils.to_categorical(enc)\n",
    "\n",
    "def label_decode(le, one_hot_label):\n",
    "    dec = np.argmax(one_hot_label, axis=1)\n",
    "    return le.inverse_transform(dec)\n",
    "\n",
    "y_train = label_encode(label_encoder, y_train)\n",
    "y_test = label_encode(label_encoder, y_test)\n",
    "\n",
    "print('\\n\\n## After convert')\n",
    "print('y_train[0:4]:\\n', y_train[0:4])\n",
    "print('\\ny_train.shape: ', y_train.shape)\n",
    "print('y_test.shape: ', y_test.shape)\n"
   ]
  },
  {
   "cell_type": "markdown",
   "metadata": {},
   "source": [
    "### 7-3 Build model"
   ]
  },
  {
   "cell_type": "code",
   "execution_count": 6,
   "metadata": {},
   "outputs": [
    {
     "name": "stdout",
     "output_type": "stream",
     "text": [
      "input_shape:  500\n",
      "output_shape:  4\n"
     ]
    }
   ],
   "source": [
    "# I/O check\n",
    "input_shape = X_train.shape[1]\n",
    "print('input_shape: ', input_shape)\n",
    "\n",
    "output_shape = len(label_encoder.classes_)\n",
    "print('output_shape: ', output_shape)"
   ]
  },
  {
   "cell_type": "markdown",
   "metadata": {},
   "source": [
    "![Imgur](https://i.imgur.com/qt6ggCg.png)"
   ]
  },
  {
   "cell_type": "code",
   "execution_count": 7,
   "metadata": {},
   "outputs": [
    {
     "name": "stdout",
     "output_type": "stream",
     "text": [
      "_________________________________________________________________\n",
      "Layer (type)                 Output Shape              Param #   \n",
      "=================================================================\n",
      "input_1 (InputLayer)         (None, 500)               0         \n",
      "_________________________________________________________________\n",
      "dense_1 (Dense)              (None, 64)                32064     \n",
      "_________________________________________________________________\n",
      "re_lu_1 (ReLU)               (None, 64)                0         \n",
      "_________________________________________________________________\n",
      "dense_2 (Dense)              (None, 64)                4160      \n",
      "_________________________________________________________________\n",
      "re_lu_2 (ReLU)               (None, 64)                0         \n",
      "_________________________________________________________________\n",
      "dense_3 (Dense)              (None, 4)                 260       \n",
      "_________________________________________________________________\n",
      "softmax_1 (Softmax)          (None, 4)                 0         \n",
      "=================================================================\n",
      "Total params: 36,484\n",
      "Trainable params: 36,484\n",
      "Non-trainable params: 0\n",
      "_________________________________________________________________\n"
     ]
    }
   ],
   "source": [
    "from keras.models import Model\n",
    "from keras.layers import Input, Dense\n",
    "from keras.layers import ReLU, Softmax\n",
    "\n",
    "# input layer\n",
    "model_input = Input(shape=(input_shape, ))  # 500\n",
    "X = model_input\n",
    "\n",
    "# 1st hidden layer\n",
    "X_W1 = Dense(units=64)(X)  # 64\n",
    "H1 = ReLU()(X_W1)\n",
    "\n",
    "# 2nd hidden layer\n",
    "H1_W2 = Dense(units=64)(H1)  # 64\n",
    "H2 = ReLU()(H1_W2)\n",
    "\n",
    "# output layer\n",
    "H2_W3 = Dense(units=output_shape)(H2)  # 4\n",
    "H3 = Softmax()(H2_W3)\n",
    "\n",
    "model_output = H3\n",
    "\n",
    "# create model\n",
    "model = Model(inputs=[model_input], outputs=[model_output])\n",
    "\n",
    "# loss function & optimizer\n",
    "model.compile(optimizer='adam',\n",
    "              loss='categorical_crossentropy',\n",
    "              metrics=['accuracy'])\n",
    "\n",
    "# show model construction\n",
    "model.summary()"
   ]
  },
  {
   "cell_type": "markdown",
   "metadata": {},
   "source": [
    "### 7-4 Training!"
   ]
  },
  {
   "cell_type": "code",
   "execution_count": 7,
   "metadata": {},
   "outputs": [
    {
     "name": "stdout",
     "output_type": "stream",
     "text": [
      "Epoch 1/5\n",
      "3613/3613 [==============================] - 1s 217us/step - loss: 1.3312 - acc: 0.3723\n",
      "Epoch 2/5\n",
      "3613/3613 [==============================] - 0s 65us/step - loss: 0.9941 - acc: 0.6460\n",
      "Epoch 3/5\n",
      "3613/3613 [==============================] - 0s 61us/step - loss: 0.5834 - acc: 0.7880\n",
      "Epoch 4/5\n",
      "3613/3613 [==============================] - 0s 79us/step - loss: 0.4170 - acc: 0.8467\n",
      "Epoch 5/5\n",
      "3613/3613 [==============================] - 0s 73us/step - loss: 0.3327 - acc: 0.8832\n",
      "training finish\n"
     ]
    }
   ],
   "source": [
    "# training setting\n",
    "epochs = 5\n",
    "batch_size = 32\n",
    "\n",
    "# training!\n",
    "history = model.fit(X_train, y_train, epochs=epochs, batch_size=batch_size)\n",
    "print('training finish')"
   ]
  },
  {
   "cell_type": "markdown",
   "metadata": {},
   "source": [
    "### 8-5 Predict on testing data"
   ]
  },
  {
   "cell_type": "code",
   "execution_count": 8,
   "metadata": {},
   "outputs": [
    {
     "data": {
      "text/plain": [
       "array([[9.7687729e-02, 1.8604279e-02, 4.1644305e-02, 8.4206367e-01],\n",
       "       [3.4013983e-02, 3.3598267e-03, 2.2157440e-02, 9.4046879e-01],\n",
       "       [2.2381876e-02, 2.8421657e-02, 9.0103626e-05, 9.4910634e-01],\n",
       "       [4.2760975e-04, 9.9767703e-01, 1.8880525e-04, 1.7065880e-03],\n",
       "       [8.9842137e-03, 3.9679222e-03, 9.8160297e-01, 5.4448815e-03]],\n",
       "      dtype=float32)"
      ]
     },
     "execution_count": 8,
     "metadata": {},
     "output_type": "execute_result"
    }
   ],
   "source": [
    "## predict\n",
    "pred_result = model.predict(X_test, batch_size=128)\n",
    "pred_result[:5]"
   ]
  },
  {
   "cell_type": "code",
   "execution_count": 9,
   "metadata": {},
   "outputs": [
    {
     "data": {
      "text/plain": [
       "array(['sadness', 'sadness', 'sadness', 'fear', 'joy'], dtype=object)"
      ]
     },
     "execution_count": 9,
     "metadata": {},
     "output_type": "execute_result"
    }
   ],
   "source": [
    "pred_result = label_decode(label_encoder, pred_result)\n",
    "pred_result[:5]"
   ]
  },
  {
   "cell_type": "code",
   "execution_count": 16,
   "metadata": {},
   "outputs": [
    {
     "ename": "NameError",
     "evalue": "name 'pred_result' is not defined",
     "output_type": "error",
     "traceback": [
      "\u001b[0;31m---------------------------------------------------------------------------\u001b[0m",
      "\u001b[0;31mNameError\u001b[0m                                 Traceback (most recent call last)",
      "\u001b[0;32m<ipython-input-16-1ca97d18474c>\u001b[0m in \u001b[0;36m<module>\u001b[0;34m()\u001b[0m\n\u001b[1;32m      1\u001b[0m \u001b[0;32mfrom\u001b[0m \u001b[0msklearn\u001b[0m\u001b[0;34m.\u001b[0m\u001b[0mmetrics\u001b[0m \u001b[0;32mimport\u001b[0m \u001b[0maccuracy_score\u001b[0m\u001b[0;34m\u001b[0m\u001b[0m\n\u001b[1;32m      2\u001b[0m \u001b[0;34m\u001b[0m\u001b[0m\n\u001b[0;32m----> 3\u001b[0;31m \u001b[0mprint\u001b[0m\u001b[0;34m(\u001b[0m\u001b[0;34m'testing accuracy: {}'\u001b[0m\u001b[0;34m.\u001b[0m\u001b[0mformat\u001b[0m\u001b[0;34m(\u001b[0m\u001b[0mround\u001b[0m\u001b[0;34m(\u001b[0m\u001b[0maccuracy_score\u001b[0m\u001b[0;34m(\u001b[0m\u001b[0mlabel_decode\u001b[0m\u001b[0;34m(\u001b[0m\u001b[0mlabel_encoder\u001b[0m\u001b[0;34m,\u001b[0m \u001b[0my_test\u001b[0m\u001b[0;34m)\u001b[0m\u001b[0;34m,\u001b[0m \u001b[0mpred_result\u001b[0m\u001b[0;34m)\u001b[0m\u001b[0;34m,\u001b[0m \u001b[0;36m2\u001b[0m\u001b[0;34m)\u001b[0m\u001b[0;34m)\u001b[0m\u001b[0;34m)\u001b[0m\u001b[0;34m\u001b[0m\u001b[0m\n\u001b[0m",
      "\u001b[0;31mNameError\u001b[0m: name 'pred_result' is not defined"
     ]
    }
   ],
   "source": [
    "from sklearn.metrics import accuracy_score\n",
    "\n",
    "print('testing accuracy: {}'.format(round(accuracy_score(label_decode(label_encoder, y_test), pred_result), 2)))"
   ]
  },
  {
   "cell_type": "markdown",
   "metadata": {},
   "source": [
    "---"
   ]
  },
  {
   "cell_type": "markdown",
   "metadata": {},
   "source": [
    "### Note\n",
    "\n",
    "If you don't have a GPU (level is higher than GTX 1060) or you are not good at setting lots of things about computer, we **highly recommend** you to use the [kaggle kernel](https://www.kaggle.com/kernels) to do deep learning model training. They have already installed all the librarys and provided free GPU for you to use.\n",
    "\n",
    "\n",
    "### More Information for your reference\n",
    "\n",
    "* Keras document: https://keras.io/\n",
    "* Keras GitHub example: https://github.com/keras-team/keras/tree/master/examples\n",
    "* CS229: Machine Learning: http://cs229.stanford.edu/syllabus.html\n",
    "* Deep Learning cheatsheet: https://stanford.edu/~shervine/teaching/cs-229/cheatsheet-deep-learning\n",
    "* Notes from Coursera Deep Learning courses: https://www.slideshare.net/TessFerrandez/notes-from-coursera-deep-learning-courses-by-andrew-ng\n",
    "* If you want to try TensorFlow or PyTorch: https://github.com/omarsar/nlp_pytorch_tensorflow_notebooks\n",
    "* If you find life is so hard: http://curricul.web.nthu.edu.tw/files/13-1073-11965.php"
   ]
  },
  {
   "cell_type": "markdown",
   "metadata": {},
   "source": [
    "---\n",
    "### 8. Word2Vector\n",
    "\n",
    "We will introduce how to use `gensim` to train your word2vec model and how to load a pre-trained model.\n",
    "\n",
    "https://radimrehurek.com/gensim/index.html"
   ]
  },
  {
   "cell_type": "markdown",
   "metadata": {},
   "source": [
    "### 8-0 Import library"
   ]
  },
  {
   "cell_type": "code",
   "execution_count": 10,
   "metadata": {},
   "outputs": [],
   "source": [
    "## check library\n",
    "import gensim"
   ]
  },
  {
   "cell_type": "code",
   "execution_count": 11,
   "metadata": {},
   "outputs": [],
   "source": [
    "## ignore warnings\n",
    "import warnings\n",
    "warnings.filterwarnings('ignore')"
   ]
  },
  {
   "cell_type": "code",
   "execution_count": 12,
   "metadata": {},
   "outputs": [],
   "source": [
    "# # if you want to see the training messages, you can use it\n",
    "# import logging\n",
    "# logging.basicConfig(format='%(asctime)s : %(levelname)s : %(message)s', level=logging.INFO)"
   ]
  },
  {
   "cell_type": "markdown",
   "metadata": {},
   "source": [
    "### 8-1 Prepare training corpus"
   ]
  },
  {
   "cell_type": "code",
   "execution_count": 13,
   "metadata": {},
   "outputs": [
    {
     "data": {
      "text/html": [
       "<div>\n",
       "<style scoped>\n",
       "    .dataframe tbody tr th:only-of-type {\n",
       "        vertical-align: middle;\n",
       "    }\n",
       "\n",
       "    .dataframe tbody tr th {\n",
       "        vertical-align: top;\n",
       "    }\n",
       "\n",
       "    .dataframe thead th {\n",
       "        text-align: right;\n",
       "    }\n",
       "</style>\n",
       "<table border=\"1\" class=\"dataframe\">\n",
       "  <thead>\n",
       "    <tr style=\"text-align: right;\">\n",
       "      <th></th>\n",
       "      <th>id</th>\n",
       "      <th>text</th>\n",
       "      <th>text_tokenized</th>\n",
       "    </tr>\n",
       "  </thead>\n",
       "  <tbody>\n",
       "    <tr>\n",
       "      <th>1429</th>\n",
       "      <td>20572</td>\n",
       "      <td>@BlizzHeroes I feel horrible dealing with 'pla...</td>\n",
       "      <td>[@, BlizzHeroes, I, feel, horrible, dealing, w...</td>\n",
       "    </tr>\n",
       "    <tr>\n",
       "      <th>3362</th>\n",
       "      <td>40535</td>\n",
       "      <td>Hey @AppleSupport - how do I find my play hist...</td>\n",
       "      <td>[Hey, @, AppleSupport, -, how, do, I, find, my...</td>\n",
       "    </tr>\n",
       "    <tr>\n",
       "      <th>2035</th>\n",
       "      <td>30031</td>\n",
       "      <td>@ADenkyirah Happy birthday! Hope you have a wo...</td>\n",
       "      <td>[@, ADenkyirah, Happy, birthday, !, Hope, you,...</td>\n",
       "    </tr>\n",
       "    <tr>\n",
       "      <th>1255</th>\n",
       "      <td>20398</td>\n",
       "      <td>While we focus on issue of #IPCA @IHFOKids Ind...</td>\n",
       "      <td>[While, we, focus, on, issue, of, #, IPCA, @, ...</td>\n",
       "    </tr>\n",
       "    <tr>\n",
       "      <th>1104</th>\n",
       "      <td>20247</td>\n",
       "      <td>@dfkm1970 @tomddumba the struggle is real. Who...</td>\n",
       "      <td>[@, dfkm1970, @, tomddumba, the, struggle, is,...</td>\n",
       "    </tr>\n",
       "  </tbody>\n",
       "</table>\n",
       "</div>"
      ],
      "text/plain": [
       "         id                                               text  \\\n",
       "1429  20572  @BlizzHeroes I feel horrible dealing with 'pla...   \n",
       "3362  40535  Hey @AppleSupport - how do I find my play hist...   \n",
       "2035  30031  @ADenkyirah Happy birthday! Hope you have a wo...   \n",
       "1255  20398  While we focus on issue of #IPCA @IHFOKids Ind...   \n",
       "1104  20247  @dfkm1970 @tomddumba the struggle is real. Who...   \n",
       "\n",
       "                                         text_tokenized  \n",
       "1429  [@, BlizzHeroes, I, feel, horrible, dealing, w...  \n",
       "3362  [Hey, @, AppleSupport, -, how, do, I, find, my...  \n",
       "2035  [@, ADenkyirah, Happy, birthday, !, Hope, you,...  \n",
       "1255  [While, we, focus, on, issue, of, #, IPCA, @, ...  \n",
       "1104  [@, dfkm1970, @, tomddumba, the, struggle, is,...  "
      ]
     },
     "execution_count": 13,
     "metadata": {},
     "output_type": "execute_result"
    }
   ],
   "source": [
    "## the input type\n",
    "train_df['text_tokenized'] = train_df['text'].apply(lambda x: nltk.word_tokenize(x))\n",
    "train_df[['id', 'text', 'text_tokenized']].head()"
   ]
  },
  {
   "cell_type": "code",
   "execution_count": 14,
   "metadata": {},
   "outputs": [
    {
     "data": {
      "text/plain": [
       "array([list(['@', 'BlizzHeroes', 'I', 'feel', 'horrible', 'dealing', 'with', \"'players\", \"'\", 'in', 'HotS', '.', 'News', 'on', 'what', 'you', \"'re\", 'doing', 'about', 'it', '?', 'Getting', 'stuck', 'with', 'uncooperative', 'people', '!']),\n",
       "       list(['Hey', '@', 'AppleSupport', '-', 'how', 'do', 'I', 'find', 'my', 'play', 'history', 'on', 'new', '#', 'ios10', '#', 'appleMusic', '#', 'music', '#', 'lost']),\n",
       "       list(['@', 'ADenkyirah', 'Happy', 'birthday', '!', 'Hope', 'you', 'have', 'a', 'wonderful', 'day', 'filled', 'with', 'lots', 'of', 'joy', 'and', 'laughter', '&', 'lt', ';', '3', '(', 'despite', 'tumblr', 'being', 'a', 'jerk-', 'once', 'again', ')'])],\n",
       "      dtype=object)"
      ]
     },
     "execution_count": 14,
     "metadata": {},
     "output_type": "execute_result"
    }
   ],
   "source": [
    "training_corpus = train_df['text_tokenized'].values\n",
    "training_corpus[:3]"
   ]
  },
  {
   "cell_type": "markdown",
   "metadata": {},
   "source": [
    "### 8-2 Training our model\n",
    "\n",
    "More details: https://radimrehurek.com/gensim/models/word2vec.html"
   ]
  },
  {
   "cell_type": "code",
   "execution_count": 15,
   "metadata": {
    "scrolled": true
   },
   "outputs": [
    {
     "name": "stderr",
     "output_type": "stream",
     "text": [
      "2018-11-05 08:37:07,065 : INFO : collecting all words and their counts\n",
      "2018-11-05 08:37:07,066 : INFO : PROGRESS: at sentence #0, processed 0 words, keeping 0 word types\n",
      "2018-11-05 08:37:07,085 : INFO : collected 11970 word types from a corpus of 72313 raw words and 3613 sentences\n",
      "2018-11-05 08:37:07,087 : INFO : Loading a fresh vocabulary\n",
      "2018-11-05 08:37:07,127 : INFO : effective_min_count=1 retains 11970 unique words (100% of original 11970, drops 0)\n",
      "2018-11-05 08:37:07,132 : INFO : effective_min_count=1 leaves 72313 word corpus (100% of original 72313, drops 0)\n",
      "2018-11-05 08:37:07,173 : INFO : deleting the raw counts dictionary of 11970 items\n",
      "2018-11-05 08:37:07,174 : INFO : sample=0.001 downsamples 44 most-common words\n",
      "2018-11-05 08:37:07,175 : INFO : downsampling leaves estimated 55000 word corpus (76.1% of prior 72313)\n",
      "2018-11-05 08:37:07,217 : INFO : estimated required memory for 11970 words and 100 dimensions: 15561000 bytes\n",
      "2018-11-05 08:37:07,221 : INFO : resetting layer weights\n",
      "2018-11-05 08:37:07,415 : INFO : training model with 3 workers on 11970 vocabulary and 100 features, using sg=0 hs=0 sample=0.001 negative=5 window=5\n",
      "2018-11-05 08:37:07,479 : INFO : worker thread finished; awaiting finish of 2 more threads\n",
      "2018-11-05 08:37:07,481 : INFO : worker thread finished; awaiting finish of 1 more threads\n",
      "2018-11-05 08:37:07,492 : INFO : worker thread finished; awaiting finish of 0 more threads\n",
      "2018-11-05 08:37:07,493 : INFO : EPOCH - 1 : training on 72313 raw words (54999 effective words) took 0.1s, 761144 effective words/s\n",
      "2018-11-05 08:37:07,563 : INFO : worker thread finished; awaiting finish of 2 more threads\n",
      "2018-11-05 08:37:07,566 : INFO : worker thread finished; awaiting finish of 1 more threads\n",
      "2018-11-05 08:37:07,589 : INFO : worker thread finished; awaiting finish of 0 more threads\n",
      "2018-11-05 08:37:07,590 : INFO : EPOCH - 2 : training on 72313 raw words (55012 effective words) took 0.1s, 618595 effective words/s\n",
      "2018-11-05 08:37:07,669 : INFO : worker thread finished; awaiting finish of 2 more threads\n",
      "2018-11-05 08:37:07,670 : INFO : worker thread finished; awaiting finish of 1 more threads\n",
      "2018-11-05 08:37:07,678 : INFO : worker thread finished; awaiting finish of 0 more threads\n",
      "2018-11-05 08:37:07,678 : INFO : EPOCH - 3 : training on 72313 raw words (55014 effective words) took 0.1s, 735641 effective words/s\n",
      "2018-11-05 08:37:07,748 : INFO : worker thread finished; awaiting finish of 2 more threads\n",
      "2018-11-05 08:37:07,749 : INFO : worker thread finished; awaiting finish of 1 more threads\n",
      "2018-11-05 08:37:07,754 : INFO : worker thread finished; awaiting finish of 0 more threads\n",
      "2018-11-05 08:37:07,755 : INFO : EPOCH - 4 : training on 72313 raw words (55040 effective words) took 0.1s, 781172 effective words/s\n",
      "2018-11-05 08:37:07,828 : INFO : worker thread finished; awaiting finish of 2 more threads\n",
      "2018-11-05 08:37:07,831 : INFO : worker thread finished; awaiting finish of 1 more threads\n",
      "2018-11-05 08:37:07,838 : INFO : worker thread finished; awaiting finish of 0 more threads\n",
      "2018-11-05 08:37:07,840 : INFO : EPOCH - 5 : training on 72313 raw words (55080 effective words) took 0.1s, 793356 effective words/s\n",
      "2018-11-05 08:37:07,911 : INFO : worker thread finished; awaiting finish of 2 more threads\n",
      "2018-11-05 08:37:07,912 : INFO : worker thread finished; awaiting finish of 1 more threads\n",
      "2018-11-05 08:37:07,919 : INFO : worker thread finished; awaiting finish of 0 more threads\n",
      "2018-11-05 08:37:07,921 : INFO : EPOCH - 6 : training on 72313 raw words (55003 effective words) took 0.1s, 757863 effective words/s\n",
      "2018-11-05 08:37:07,995 : INFO : worker thread finished; awaiting finish of 2 more threads\n",
      "2018-11-05 08:37:07,997 : INFO : worker thread finished; awaiting finish of 1 more threads\n",
      "2018-11-05 08:37:08,006 : INFO : worker thread finished; awaiting finish of 0 more threads\n",
      "2018-11-05 08:37:08,007 : INFO : EPOCH - 7 : training on 72313 raw words (54975 effective words) took 0.1s, 719606 effective words/s\n",
      "2018-11-05 08:37:08,084 : INFO : worker thread finished; awaiting finish of 2 more threads\n",
      "2018-11-05 08:37:08,087 : INFO : worker thread finished; awaiting finish of 1 more threads\n",
      "2018-11-05 08:37:08,092 : INFO : worker thread finished; awaiting finish of 0 more threads\n",
      "2018-11-05 08:37:08,093 : INFO : EPOCH - 8 : training on 72313 raw words (55031 effective words) took 0.1s, 724106 effective words/s\n",
      "2018-11-05 08:37:08,169 : INFO : worker thread finished; awaiting finish of 2 more threads\n",
      "2018-11-05 08:37:08,170 : INFO : worker thread finished; awaiting finish of 1 more threads\n",
      "2018-11-05 08:37:08,179 : INFO : worker thread finished; awaiting finish of 0 more threads\n",
      "2018-11-05 08:37:08,179 : INFO : EPOCH - 9 : training on 72313 raw words (55154 effective words) took 0.1s, 689220 effective words/s\n",
      "2018-11-05 08:37:08,257 : INFO : worker thread finished; awaiting finish of 2 more threads\n",
      "2018-11-05 08:37:08,258 : INFO : worker thread finished; awaiting finish of 1 more threads\n",
      "2018-11-05 08:37:08,266 : INFO : worker thread finished; awaiting finish of 0 more threads\n",
      "2018-11-05 08:37:08,267 : INFO : EPOCH - 10 : training on 72313 raw words (54963 effective words) took 0.1s, 743439 effective words/s\n",
      "2018-11-05 08:37:08,341 : INFO : worker thread finished; awaiting finish of 2 more threads\n",
      "2018-11-05 08:37:08,342 : INFO : worker thread finished; awaiting finish of 1 more threads\n",
      "2018-11-05 08:37:08,351 : INFO : worker thread finished; awaiting finish of 0 more threads\n",
      "2018-11-05 08:37:08,353 : INFO : EPOCH - 11 : training on 72313 raw words (54917 effective words) took 0.1s, 888698 effective words/s\n",
      "2018-11-05 08:37:08,428 : INFO : worker thread finished; awaiting finish of 2 more threads\n",
      "2018-11-05 08:37:08,434 : INFO : worker thread finished; awaiting finish of 1 more threads\n",
      "2018-11-05 08:37:08,441 : INFO : worker thread finished; awaiting finish of 0 more threads\n",
      "2018-11-05 08:37:08,442 : INFO : EPOCH - 12 : training on 72313 raw words (55068 effective words) took 0.1s, 868506 effective words/s\n",
      "2018-11-05 08:37:08,508 : INFO : worker thread finished; awaiting finish of 2 more threads\n",
      "2018-11-05 08:37:08,510 : INFO : worker thread finished; awaiting finish of 1 more threads\n",
      "2018-11-05 08:37:08,518 : INFO : worker thread finished; awaiting finish of 0 more threads\n",
      "2018-11-05 08:37:08,520 : INFO : EPOCH - 13 : training on 72313 raw words (54881 effective words) took 0.1s, 816845 effective words/s\n",
      "2018-11-05 08:37:08,600 : INFO : worker thread finished; awaiting finish of 2 more threads\n",
      "2018-11-05 08:37:08,609 : INFO : worker thread finished; awaiting finish of 1 more threads\n",
      "2018-11-05 08:37:08,622 : INFO : worker thread finished; awaiting finish of 0 more threads\n",
      "2018-11-05 08:37:08,623 : INFO : EPOCH - 14 : training on 72313 raw words (54987 effective words) took 0.1s, 620528 effective words/s\n",
      "2018-11-05 08:37:08,702 : INFO : worker thread finished; awaiting finish of 2 more threads\n",
      "2018-11-05 08:37:08,710 : INFO : worker thread finished; awaiting finish of 1 more threads\n",
      "2018-11-05 08:37:08,720 : INFO : worker thread finished; awaiting finish of 0 more threads\n",
      "2018-11-05 08:37:08,721 : INFO : EPOCH - 15 : training on 72313 raw words (54809 effective words) took 0.1s, 647635 effective words/s\n",
      "2018-11-05 08:37:08,807 : INFO : worker thread finished; awaiting finish of 2 more threads\n",
      "2018-11-05 08:37:08,810 : INFO : worker thread finished; awaiting finish of 1 more threads\n",
      "2018-11-05 08:37:08,819 : INFO : worker thread finished; awaiting finish of 0 more threads\n",
      "2018-11-05 08:37:08,820 : INFO : EPOCH - 16 : training on 72313 raw words (55110 effective words) took 0.1s, 770208 effective words/s\n",
      "2018-11-05 08:37:08,888 : INFO : worker thread finished; awaiting finish of 2 more threads\n",
      "2018-11-05 08:37:08,901 : INFO : worker thread finished; awaiting finish of 1 more threads\n",
      "2018-11-05 08:37:08,907 : INFO : worker thread finished; awaiting finish of 0 more threads\n",
      "2018-11-05 08:37:08,908 : INFO : EPOCH - 17 : training on 72313 raw words (55090 effective words) took 0.1s, 697044 effective words/s\n",
      "2018-11-05 08:37:08,971 : INFO : worker thread finished; awaiting finish of 2 more threads\n",
      "2018-11-05 08:37:08,972 : INFO : worker thread finished; awaiting finish of 1 more threads\n"
     ]
    },
    {
     "name": "stderr",
     "output_type": "stream",
     "text": [
      "2018-11-05 08:37:08,980 : INFO : worker thread finished; awaiting finish of 0 more threads\n",
      "2018-11-05 08:37:08,981 : INFO : EPOCH - 18 : training on 72313 raw words (54906 effective words) took 0.1s, 830366 effective words/s\n",
      "2018-11-05 08:37:09,051 : INFO : worker thread finished; awaiting finish of 2 more threads\n",
      "2018-11-05 08:37:09,053 : INFO : worker thread finished; awaiting finish of 1 more threads\n",
      "2018-11-05 08:37:09,059 : INFO : worker thread finished; awaiting finish of 0 more threads\n",
      "2018-11-05 08:37:09,060 : INFO : EPOCH - 19 : training on 72313 raw words (54901 effective words) took 0.1s, 788418 effective words/s\n",
      "2018-11-05 08:37:09,123 : INFO : worker thread finished; awaiting finish of 2 more threads\n",
      "2018-11-05 08:37:09,124 : INFO : worker thread finished; awaiting finish of 1 more threads\n",
      "2018-11-05 08:37:09,136 : INFO : worker thread finished; awaiting finish of 0 more threads\n",
      "2018-11-05 08:37:09,137 : INFO : EPOCH - 20 : training on 72313 raw words (54886 effective words) took 0.1s, 785673 effective words/s\n",
      "2018-11-05 08:37:09,138 : INFO : training on a 1446260 raw words (1099826 effective words) took 1.7s, 638584 effective words/s\n"
     ]
    }
   ],
   "source": [
    "from gensim.models import Word2Vec\n",
    "\n",
    "## setting\n",
    "vector_dim = 100\n",
    "window_size = 5\n",
    "min_count = 1\n",
    "training_iter = 20\n",
    "\n",
    "## model\n",
    "word2vec_model = Word2Vec(sentences=training_corpus, \n",
    "                          size=vector_dim, window=window_size, \n",
    "                          min_count=min_count, iter=training_iter)"
   ]
  },
  {
   "cell_type": "markdown",
   "metadata": {},
   "source": [
    "![Imgur](https://i.imgur.com/Fca3MCs.png)"
   ]
  },
  {
   "cell_type": "markdown",
   "metadata": {},
   "source": [
    "### 8-3 Word vector"
   ]
  },
  {
   "cell_type": "code",
   "execution_count": 17,
   "metadata": {},
   "outputs": [
    {
     "data": {
      "text/plain": [
       "array([-0.36511403, -0.40074104, -0.21495754, -0.46230045, -0.63748896,\n",
       "       -0.2780941 ,  0.5306585 ,  0.09508037, -0.3212948 ,  0.27700543,\n",
       "        0.29588908, -0.05153171,  0.3865284 , -0.18173805,  0.06358046,\n",
       "        0.719319  ,  0.29209015,  0.8150535 , -0.12371232,  0.20555656,\n",
       "        0.63496846, -0.61656207,  0.20301534,  0.02941255, -0.7597251 ,\n",
       "       -0.35843962, -0.87784857, -0.5585351 , -0.39539537, -0.4070839 ,\n",
       "       -0.03689624, -1.4566827 ,  1.0023146 , -0.19159755,  0.3056691 ,\n",
       "       -0.1923488 ,  0.8939862 ,  0.03548137, -0.6015085 ,  0.0928065 ,\n",
       "        0.80204767, -1.3293083 , -0.5296502 , -0.16906089, -0.05103464,\n",
       "       -0.16570783,  0.3130565 ,  0.02078493, -0.5386678 , -0.18317956,\n",
       "        0.08458313, -0.49802694,  0.11267034, -0.03325648,  0.08156079,\n",
       "       -0.21577309,  0.5745653 , -0.32616898,  0.59280425, -0.7873914 ,\n",
       "        0.12676737,  0.3247312 ,  0.02387108,  0.13205291,  0.4082817 ,\n",
       "        0.18096767, -0.04448328,  0.88230383, -0.23401679,  0.8715133 ,\n",
       "       -0.67265236, -0.1609225 , -0.67974126, -0.33084923,  0.78578305,\n",
       "       -0.1809123 , -0.8639501 ,  0.21796249, -0.06110211,  0.84453654,\n",
       "       -0.4631688 , -0.27246004,  0.00929134, -0.57315296, -0.39305782,\n",
       "       -0.22907342,  0.80347925, -0.76902163, -0.10971832,  0.01411663,\n",
       "        1.320077  ,  0.08372131,  0.2653369 , -0.33632082, -0.25657323,\n",
       "        0.47333047, -0.38135162,  0.43650067, -0.16366503,  0.7387294 ],\n",
       "      dtype=float32)"
      ]
     },
     "execution_count": 17,
     "metadata": {},
     "output_type": "execute_result"
    }
   ],
   "source": [
    "# get the corresponding vector of a word\n",
    "word_vec = word2vec_model.wv['happy']\n",
    "word_vec"
   ]
  },
  {
   "cell_type": "code",
   "execution_count": 18,
   "metadata": {},
   "outputs": [
    {
     "data": {
      "text/plain": [
       "[('keeping', 0.9454571604728699),\n",
       " (\"'you\", 0.9420479536056519),\n",
       " ('trusted', 0.9360457062721252),\n",
       " ('help', 0.9348388910293579),\n",
       " ('ability', 0.9313721656799316),\n",
       " ('thoughtful', 0.930968701839447),\n",
       " ('PUSSY\\\\nP', 0.9309160113334656),\n",
       " ('birthday', 0.9293287396430969),\n",
       " ('Be', 0.927075982093811),\n",
       " ('.\\\\nA', 0.9269962906837463)]"
      ]
     },
     "execution_count": 18,
     "metadata": {},
     "output_type": "execute_result"
    }
   ],
   "source": [
    "word = 'happy'\n",
    "topn = 10\n",
    "word2vec_model.most_similar(word, topn=topn)"
   ]
  },
  {
   "cell_type": "markdown",
   "metadata": {},
   "source": [
    "### 8-4 Using a pre-trained w2v model\n",
    "\n",
    "#### (1) Download model by yourself\n",
    "\n",
    "source: [GoogleNews-vectors-negative300](https://code.google.com/archive/p/word2vec/)\n",
    "\n",
    "more details: https://radimrehurek.com/gensim/models/keyedvectors.html"
   ]
  },
  {
   "cell_type": "code",
   "execution_count": 19,
   "metadata": {},
   "outputs": [
    {
     "name": "stdout",
     "output_type": "stream",
     "text": [
      "load ok\n"
     ]
    },
    {
     "data": {
      "text/plain": [
       "[('glad', 0.7408890724182129),\n",
       " ('pleased', 0.6632170677185059),\n",
       " ('ecstatic', 0.6626912951469421),\n",
       " ('overjoyed', 0.6599286794662476),\n",
       " ('thrilled', 0.6514050364494324),\n",
       " ('satisfied', 0.6437949538230896),\n",
       " ('proud', 0.636042058467865),\n",
       " ('delighted', 0.6272379159927368),\n",
       " ('disappointed', 0.6269949078559875),\n",
       " ('excited', 0.6247666478157043)]"
      ]
     },
     "execution_count": 19,
     "metadata": {},
     "output_type": "execute_result"
    }
   ],
   "source": [
    "from gensim.models import KeyedVectors\n",
    "\n",
    "## Note: this model is very huge, here costs lots of time\n",
    "model_path = \"./GoogleNews/GoogleNews-vectors-negative300.bin.gz\"\n",
    "w2v_google_model = KeyedVectors.load_word2vec_format(model_path, binary=True)\n",
    "print('load ok')\n",
    "\n",
    "w2v_google_model.most_similar('happy', topn=10)"
   ]
  },
  {
   "cell_type": "markdown",
   "metadata": {},
   "source": [
    "#### (2) Using gensim api\n",
    "\n",
    "more pre-trained models: https://github.com/RaRe-Technologies/gensim-data"
   ]
  },
  {
   "cell_type": "code",
   "execution_count": 20,
   "metadata": {},
   "outputs": [
    {
     "name": "stdout",
     "output_type": "stream",
     "text": [
      "load ok\n"
     ]
    },
    {
     "data": {
      "text/plain": [
       "[('birthday', 0.9577817916870117),\n",
       " ('thank', 0.9376667141914368),\n",
       " ('welcome', 0.9336150288581848),\n",
       " ('love', 0.9176183938980103),\n",
       " ('miss', 0.916450023651123),\n",
       " ('hello', 0.9158352017402649),\n",
       " ('thanks', 0.9150084257125854),\n",
       " ('merry', 0.9053248763084412),\n",
       " ('bless', 0.9027323722839355),\n",
       " ('wish', 0.9013165235519409)]"
      ]
     },
     "execution_count": 20,
     "metadata": {},
     "output_type": "execute_result"
    }
   ],
   "source": [
    "import gensim.downloader as api\n",
    "\n",
    "## If you see `SSL: CERTIFICATE_VERIFY_FAILED` error, use this:\n",
    "import ssl\n",
    "import urllib.request\n",
    "ssl._create_default_https_context = ssl._create_unverified_context\n",
    "\n",
    "glove_twitter_25_model = api.load(\"glove-twitter-25\")\n",
    "print('load ok')\n",
    "\n",
    "glove_twitter_25_model.most_similar('happy', topn=10)"
   ]
  },
  {
   "cell_type": "markdown",
   "metadata": {},
   "source": [
    "### 8-5 king + woman - man = ?"
   ]
  },
  {
   "cell_type": "code",
   "execution_count": 21,
   "metadata": {},
   "outputs": [
    {
     "data": {
      "text/plain": [
       "[('queen', 0.7118192911148071),\n",
       " ('monarch', 0.6189674735069275),\n",
       " ('princess', 0.5902431011199951),\n",
       " ('crown_prince', 0.549946129322052),\n",
       " ('prince', 0.5377321243286133),\n",
       " ('kings', 0.5236844420433044),\n",
       " ('Queen_Consort', 0.5235945582389832),\n",
       " ('queens', 0.5181134343147278),\n",
       " ('sultan', 0.5098593235015869),\n",
       " ('monarchy', 0.5087411999702454)]"
      ]
     },
     "execution_count": 21,
     "metadata": {},
     "output_type": "execute_result"
    }
   ],
   "source": [
    "w2v_google_model.most_similar(positive=['king', 'woman'], negative=['man'])"
   ]
  },
  {
   "cell_type": "markdown",
   "metadata": {},
   "source": [
    "---\n",
    "![Imgur](https://i.imgur.com/lXBIX1Y.png)\n",
    "\n",
    "Now, We get the word vector, but our input data is a sequence of words (or say sentence). \n",
    "\n",
    "How can we utilize these \"word\" vectors to represent the sentence data and train our model?\n",
    "\n",
    "---"
   ]
  },
  {
   "cell_type": "markdown",
   "metadata": {},
   "source": [
    "### 9. Clustering: k-means\n",
    "\n",
    "Here we introduce how to use `sklearn` to do the basic **unsupervised learning** approach, k-means.    \n",
    "\n",
    "more details: http://scikit-learn.org/stable/modules/generated/sklearn.cluster.KMeans.html\n"
   ]
  },
  {
   "cell_type": "markdown",
   "metadata": {},
   "source": [
    "#### Basic concept\n",
    "\n",
    "![Image](https://i.imgur.com/PEdUf54.png)\n",
    "\n",
    "(img source: https://towardsdatascience.com/k-means-clustering-identifying-f-r-i-e-n-d-s-in-the-world-of-strangers-695537505d)"
   ]
  },
  {
   "cell_type": "markdown",
   "metadata": {},
   "source": [
    "![Imgur](https://i.imgur.com/lM7aigN.png)"
   ]
  },
  {
   "cell_type": "code",
   "execution_count": 22,
   "metadata": {},
   "outputs": [
    {
     "name": "stdout",
     "output_type": "stream",
     "text": [
      "target words:  ['happy', 'fear', 'angry', 'car', 'teacher', 'computer']\n"
     ]
    }
   ],
   "source": [
    "# clustering target\n",
    "target_list = ['happy', 'fear', 'angry', 'car', 'teacher', 'computer']\n",
    "print('target words: ', target_list)\n",
    "\n",
    "# convert to word vector\n",
    "X = [word2vec_model.wv[word] for word in target_list]"
   ]
  },
  {
   "cell_type": "code",
   "execution_count": 23,
   "metadata": {},
   "outputs": [
    {
     "name": "stdout",
     "output_type": "stream",
     "text": [
      "word: happy \t cluster: 1\n",
      "word: fear \t cluster: 1\n",
      "word: angry \t cluster: 1\n",
      "word: car \t cluster: 0\n",
      "word: teacher \t cluster: 0\n",
      "word: computer \t cluster: 0\n"
     ]
    }
   ],
   "source": [
    "from sklearn.cluster import KMeans\n",
    "\n",
    "# we have to decide how many cluster (k) we want\n",
    "k = 2\n",
    "\n",
    "# k-means model\n",
    "kmeans_model = KMeans(n_clusters=k)\n",
    "kmeans_model.fit(X)\n",
    "\n",
    "# cluster result\n",
    "cluster_result = kmeans_model.labels_\n",
    "\n",
    "# show\n",
    "for i in range(len(target_list)):\n",
    "    print('word: {} \\t cluster: {}'.format(target_list[i], cluster_result[i]))"
   ]
  },
  {
   "cell_type": "markdown",
   "metadata": {},
   "source": [
    "![Imgur](https://i.imgur.com/JeZ27M2.png)"
   ]
  },
  {
   "cell_type": "code",
   "execution_count": 24,
   "metadata": {},
   "outputs": [
    {
     "data": {
      "text/plain": [
       "array([0], dtype=int32)"
      ]
     },
     "execution_count": 24,
     "metadata": {},
     "output_type": "execute_result"
    }
   ],
   "source": [
    "word = 'student'\n",
    "word_vec = word2vec_model.wv[word]\n",
    "kmeans_model.predict([word_vec])"
   ]
  },
  {
   "cell_type": "code",
   "execution_count": 25,
   "metadata": {},
   "outputs": [
    {
     "data": {
      "text/plain": [
       "array([1], dtype=int32)"
      ]
     },
     "execution_count": 25,
     "metadata": {},
     "output_type": "execute_result"
    }
   ],
   "source": [
    "word = 'sad'\n",
    "word_vec = word2vec_model.wv[word]\n",
    "kmeans_model.predict([word_vec])"
   ]
  },
  {
   "cell_type": "markdown",
   "metadata": {},
   "source": [
    "---\n",
    "![Imgur](https://i.imgur.com/lXBIX1Y.png)\n",
    "\n",
    "As this example, although our task is a classification problem, clustering algorithm would help us to find some hidden relations automatically.  \n",
    "In other words, utilizing this technique, you may extract useful features from our data. \n",
    "\n",
    "Unfolding your creativity to do more feature engineering! [Hint: 😊 😡 🤫 😇]\n",
    "\n",
    "---"
   ]
  },
  {
   "cell_type": "markdown",
   "metadata": {},
   "source": [
    "\n",
    "### 10. High-dimension Visualization: t-SNE\n",
    "\n",
    "No matter you use the Bag-of-words, tf-idf, or word2vec, it's very hard to see the embedding result, because the dimension is larger than 3.  \n",
    "\n",
    "In Lab 1, we already talked about PCA. We can use PCA to reduce the dimension of our data, then visialize them.  \n",
    "However, if you dig deeper into the result, you should find it is insufficient..."
   ]
  },
  {
   "cell_type": "markdown",
   "metadata": {},
   "source": [
    "  "
   ]
  },
  {
   "cell_type": "markdown",
   "metadata": {},
   "source": [
    "source: https://www.fabian-keller.de/research/high-dimensional-data-visualization \n",
    "![Imgur](https://i.imgur.com/6IrSODM.png)\n"
   ]
  },
  {
   "cell_type": "markdown",
   "metadata": {},
   "source": [
    "  "
   ]
  },
  {
   "cell_type": "markdown",
   "metadata": {},
   "source": [
    "Here we would like to introduce another visualization method called t-SNE.  \n",
    "http://scikit-learn.org/stable/modules/generated/sklearn.manifold.TSNE.html "
   ]
  },
  {
   "cell_type": "markdown",
   "metadata": {},
   "source": [
    "### 10-0 Prepare visualize target"
   ]
  },
  {
   "cell_type": "markdown",
   "metadata": {},
   "source": [
    "prepare data lists like:\n",
    "![Imgur](https://i.imgur.com/vKkJ8sw.png)"
   ]
  },
  {
   "cell_type": "code",
   "execution_count": 29,
   "metadata": {},
   "outputs": [
    {
     "name": "stdout",
     "output_type": "stream",
     "text": [
      "happy_words:  ['happy', 'glad', 'pleased', 'ecstatic', 'overjoyed', 'thrilled']\n",
      "angry_words:  ['angry', 'irate', 'enraged', 'indignant', 'incensed', 'annoyed']\n",
      "data_words:  ['data', 'Data', 'datasets', 'dataset', 'databases', 'statistics']\n",
      "mining_words:  ['mining', 'Mining', 'mines', 'coal_mining', 'mine', 'miner']\n",
      "\n",
      "target words: \n",
      "['happy', 'glad', 'pleased', 'ecstatic', 'overjoyed', 'thrilled', 'angry', 'irate', 'enraged', 'indignant', 'incensed', 'annoyed', 'data', 'Data', 'datasets', 'dataset', 'databases', 'statistics', 'mining', 'Mining', 'mines', 'coal_mining', 'mine', 'miner']\n",
      "\n",
      "color list:\n",
      "['b', 'b', 'b', 'b', 'b', 'b', 'g', 'g', 'g', 'g', 'g', 'g', 'r', 'r', 'r', 'r', 'r', 'r', 'y', 'y', 'y', 'y', 'y', 'y']\n"
     ]
    }
   ],
   "source": [
    "word_list = ['happy', 'angry', 'data', 'mining']\n",
    "\n",
    "topn = 5\n",
    "happy_words = ['happy'] + [word_ for word_, sim_ in w2v_google_model.most_similar('happy', topn=topn)]\n",
    "angry_words = ['angry'] + [word_ for word_, sim_ in w2v_google_model.most_similar('angry', topn=topn)]        \n",
    "data_words = ['data'] + [word_ for word_, sim_ in w2v_google_model.most_similar('data', topn=topn)]        \n",
    "mining_words = ['mining'] + [word_ for word_, sim_ in w2v_google_model.most_similar('mining', topn=topn)]        \n",
    "\n",
    "print('happy_words: ', happy_words)\n",
    "print('angry_words: ', angry_words)\n",
    "print('data_words: ', data_words)\n",
    "print('mining_words: ', mining_words)\n",
    "\n",
    "target_words = happy_words + angry_words + data_words + mining_words\n",
    "print('\\ntarget words: ')\n",
    "print(target_words)\n",
    "\n",
    "print('\\ncolor list:')\n",
    "cn = topn + 1\n",
    "color = ['b'] * cn + ['g'] * cn + ['r'] * cn + ['y'] * cn\n",
    "print(color)"
   ]
  },
  {
   "cell_type": "markdown",
   "metadata": {},
   "source": [
    "### 10-1 Plot by t-SNE (2-dimension)"
   ]
  },
  {
   "cell_type": "code",
   "execution_count": 33,
   "metadata": {},
   "outputs": [
    {
     "data": {
      "image/png": "[encoded data removed]",
      "text/plain": [
       "<matplotlib.figure.Figure at 0x270a3e198>"
      ]
     },
     "metadata": {},
     "output_type": "display_data"
    }
   ],
   "source": [
    "%matplotlib inline\n",
    "import matplotlib.pyplot as plt\n",
    "from sklearn.manifold import TSNE\n",
    "\n",
    "## w2v model\n",
    "model = w2v_google_model\n",
    "\n",
    "## prepare training word vectors\n",
    "size = 200\n",
    "target_size = len(target_words)\n",
    "all_word = list(model.vocab.keys())\n",
    "word_train = target_words + all_word[:size]\n",
    "X_train = model[word_train]\n",
    "\n",
    "## t-SNE model\n",
    "tsne = TSNE(n_components=2, metric='cosine', random_state=28)\n",
    "\n",
    "## training\n",
    "X_tsne = tsne.fit_transform(X_train)\n",
    "\n",
    "## plot the result\n",
    "plt.figure(figsize=(7.5, 7.5), dpi=115)\n",
    "plt.scatter(X_tsne[:target_size, 0], X_tsne[:target_size, 1], c=color)\n",
    "for label, x, y in zip(target_words, X_tsne[:target_size, 0], X_tsne[:target_size, 1]):\n",
    "    plt.annotate(label, xy=(x,y), xytext=(0,0),  textcoords='offset points')\n",
    "plt.show()"
   ]
  },
  {
   "cell_type": "markdown",
   "metadata": {},
   "source": [
    "---\n",
    "![Imgur](https://i.imgur.com/lXBIX1Y.png)\n",
    "\n",
    "![Imgur](https://i.imgur.com/rDT04Ml.png)\n"
   ]
  },
  {
   "cell_type": "markdown",
   "metadata": {},
   "source": [
    "---"
   ]
  },
  {
   "cell_type": "markdown",
   "metadata": {},
   "source": [
    "---\n",
    "\n",
    "![Imgur](https://i.imgur.com/MH3DkUq.png)\n",
    "\n",
    "Assignment 2 competition link: [here](https://www.kaggle.com/c/datamininglab2)     \n",
    "(you can not join by this link, we will announce the private link on iLMS)\n",
    "\n",
    "### 1. Scoring"
   ]
  },
  {
   "cell_type": "markdown",
   "metadata": {},
   "source": [
    "* Kaggle competition part **(40%)**:\n",
    "![Imgur](https://i.imgur.com/EsMyKDS.png)   \n",
    "    \n",
    "   "
   ]
  },
  {
   "cell_type": "markdown",
   "metadata": {},
   "source": [
    "* Competition report part **(60%)**:  \n",
    "The score of your report will base on: readability, completeness, and creativity."
   ]
  },
  {
   "cell_type": "markdown",
   "metadata": {},
   "source": [
    "### 2. Important Dates\n",
    "\n",
    "* 2018/11/05 (Mon) 12:30 p.m. - Start of competition\n",
    "\n",
    "\n",
    "* 2018/11/25 (Sun) 23:00 p.m. - End of competition, final score announcement\n",
    "\n",
    "\n",
    "* 2018/11/28 (Wed) 23:59 p.m. - Report submission (iLMS)"
   ]
  },
  {
   "cell_type": "markdown",
   "metadata": {},
   "source": [
    "---"
   ]
  },
  {
   "cell_type": "markdown",
   "metadata": {},
   "source": [
    "## Part 1: Kaggle competition\n",
    "\n",
    "* Competition link will be announced on iLMS, only this course's student can involve, please don't share to others.   \n",
    "  \n",
    "  \n",
    "* This is an indicidual competition, everyone is a team.    \n",
    "  \n",
    "  \n",
    "* Before the end of the competition, you can only see the `Public Leaderboard` (Your score for public data).   \n",
    "But your real score is decided by the private data, which is reveal on `Private Leaderboard` till the end of the competition.  \n",
    "Try to avoid overfitting on public testing data.  \n",
    "  \n",
    "  \n",
    "*  You are **not allowed** to use any pre-trained models or other datasets. But you can train any models from scratch by yourself.  \n",
    "  \n",
    "  \n",
    "* You are **not allowed** to share your code to other classmate, but you could exchange your idea.  \n",
    "  \n",
    "  \n",
    "* Other information are in our competition website.\n"
   ]
  },
  {
   "cell_type": "markdown",
   "metadata": {},
   "source": [
    "---\n",
    "## Part 2: Competition report\n",
    "\n",
    "* Write and organize your report with jupyter notebook and upload it to iLMS.   \n",
    "(The file name of your report must be `DM_hw2_{Your student ID}.ipynb`.  e.g DM_hw2_106065501.ipynb )\n",
    "   \n",
    "   \n",
    "* In your report, you **need** to provide:\n",
    "    * Your **student ID, name, team name, snapshot** of your `Private Leaderboard` score.  \n",
    "    (Put these at the beginning of your report, or you will get **\"0\"**)   \n",
    "         \n",
    "    * code   \n",
    "    (All the code which start from \"load data\" to \"generate the file that submit to Kaggle\") \n",
    "    \n",
    "    * comments (short notes or explaination for your code)\n",
    "    \n",
    "   \n",
    "* In your report, you **need** to include:\n",
    "    * Descript whole flow/pipeline of your work  \n",
    "      \n",
    "    * How did you pre-process/clean your data\n",
    "     \n",
    "    * What feature engineering methods have you tried  \n",
    "    \n",
    "    * What model have you used\n",
    "    \n",
    "    * Did you encounter overfitting or underfitting problem? How did you against it\n",
    "    \n",
    "    * Conclusion\n",
    "    \n",
    "\n",
    "* In your report, it would be great to tell us:\n",
    "    * Any special model and process method you tried during your experiments  \n",
    "      \n",
    "    * Share any interesting findings, feeling or suggestions   \n",
    "      \n",
    "    * compare different models and results   \n",
    "    (store each experiment you have tried is a gooooog habit)\n",
    "\n",
    "        \n",
    "* Please, please, please....submit a \"readable\" jupyter notebook. (or we will deduct some score this time.)  \n"
   ]
  },
  {
   "cell_type": "code",
   "execution_count": null,
   "metadata": {},
   "outputs": [],
   "source": []
  }
 ],
 "metadata": {
  "kernelspec": {
   "display_name": "Python 3",
   "language": "python",
   "name": "python3"
  },
  "language_info": {
   "codemirror_mode": {
    "name": "ipython",
    "version": 3
   },
   "file_extension": ".py",
   "mimetype": "text/x-python",
   "name": "python",
   "nbconvert_exporter": "python",
   "pygments_lexer": "ipython3",
   "version": "3.6.5"
  }
 },
 "nbformat": 4,
 "nbformat_minor": 2
}
